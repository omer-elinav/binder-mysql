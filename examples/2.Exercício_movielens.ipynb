{
 "cells": [
  {
   "cell_type": "markdown",
   "id": "oriented-round",
   "metadata": {},
   "source": [
    "# Movielens"
   ]
  },
  {
   "cell_type": "markdown",
   "id": "massive-spine",
   "metadata": {},
   "source": [
    "Este [dataset](https://grouplens.org/datasets/movielens/100k/) descreve as avaliações de filmes feitas por usuários no site [MovieLens](https://movielens.org/), um serviço de recomendação de filmes. As avaliações (ratings) variam de 1 a 5, cada usuário avaliou pelo menos 20 filmes e existem simples informações demográficas sobre os usuários. Existem no banco de dados, aproximadamente, 100,000 avaliações de 1000 usuários feitas a 1700 filmes."
   ]
  },
  {
   "cell_type": "markdown",
   "id": "diverse-working",
   "metadata": {},
   "source": [
    "## Descrição das tabelas"
   ]
  },
  {
   "cell_type": "markdown",
   "id": "noble-mortgage",
   "metadata": {},
   "source": [
    "* **Occupations**: Armazena a lista de ocupações dos usuários;;\n",
    "* **Users**: Armazena informações sobre os usuários, por exemplo, idade e cep;\n",
    "* **Ratings**: Armazena as notas que os usuários atribuíram aos filmes e em qual momento esta nota foi atribuída;\n",
    "* **Movies**: Armazena informações dos filmes;\n",
    "* **Genres_movies**: Armazena o relacionamento dos gêneros e dos filmes;\n",
    "* **Genres**: Armazena a lista de gêneros."
   ]
  },
  {
   "cell_type": "markdown",
   "id": "continent-registrar",
   "metadata": {},
   "source": [
    "## Modelo lógico"
   ]
  },
  {
   "cell_type": "markdown",
   "id": "complete-vehicle",
   "metadata": {},
   "source": [
    "<img src=\"../resources/images/movielens_diagram.png\" width=\"1000px\">\n"
   ]
  },
  {
   "cell_type": "markdown",
   "id": "equivalent-stomach",
   "metadata": {},
   "source": [
    "## [Questão Exemplo] Liste todos os usuários\n",
    "<!--\n",
    "SELECT * FROM users -->"
   ]
  },
  {
   "cell_type": "code",
   "execution_count": null,
   "id": "loved-surge",
   "metadata": {},
   "outputs": [],
   "source": []
  },
  {
   "cell_type": "markdown",
   "id": "disturbed-bouquet",
   "metadata": {},
   "source": [
    "## [Questão Exemplo] Liste o id e idade dos usuários\n",
    "<!-- SELECT id, age FROM users -->"
   ]
  },
  {
   "cell_type": "code",
   "execution_count": null,
   "id": "bronze-incident",
   "metadata": {},
   "outputs": [],
   "source": []
  },
  {
   "cell_type": "markdown",
   "id": "annoying-interstate",
   "metadata": {},
   "source": [
    "## [Questão Exemplo] Liste todos os ids distintos das ocupações dos usuários\n",
    "<!-- SELECT DISTINCT occupation_id FROM users -->"
   ]
  },
  {
   "cell_type": "code",
   "execution_count": null,
   "id": "spoken-editor",
   "metadata": {},
   "outputs": [],
   "source": []
  },
  {
   "cell_type": "markdown",
   "id": "cellular-washington",
   "metadata": {},
   "source": [
    "## [Questão Exemplo] Liste o id e idade dos usuários que possuem mais de 25 anos\n",
    "<!-- SELECT id, age FROM users WHERE age > 25-->"
   ]
  },
  {
   "cell_type": "code",
   "execution_count": null,
   "id": "sized-grenada",
   "metadata": {},
   "outputs": [],
   "source": []
  },
  {
   "cell_type": "markdown",
   "id": "agricultural-failing",
   "metadata": {},
   "source": [
    "## [Questão Exemplo] Liste o id e idade dos usuários que possuem entre 25 anos e 35 anos\n",
    "<!-- SELECT id, age FROM users WHERE age > 25 AND age < 25-->"
   ]
  },
  {
   "cell_type": "code",
   "execution_count": null,
   "id": "static-jenny",
   "metadata": {},
   "outputs": [],
   "source": []
  },
  {
   "cell_type": "markdown",
   "id": "scientific-monaco",
   "metadata": {},
   "source": [
    "## [Questão Exemplo] Liste o id dos usuários e o nome de suas ocupações"
   ]
  },
  {
   "cell_type": "code",
   "execution_count": null,
   "id": "hidden-stroke",
   "metadata": {},
   "outputs": [],
   "source": [
    "#Consulta aninhada"
   ]
  },
  {
   "cell_type": "code",
   "execution_count": null,
   "id": "supported-dimension",
   "metadata": {},
   "outputs": [],
   "source": [
    "#Junção"
   ]
  },
  {
   "cell_type": "markdown",
   "id": "demonstrated-snowboard",
   "metadata": {},
   "source": [
    "## [Questão Exemplo] Quantos usuários são do sexo masculino e quantos usuários são do sexo feminino?"
   ]
  },
  {
   "cell_type": "code",
   "execution_count": null,
   "id": "conditional-toner",
   "metadata": {},
   "outputs": [],
   "source": []
  },
  {
   "cell_type": "markdown",
   "id": "charged-disclosure",
   "metadata": {},
   "source": [
    "## [Questão Exemplo] Quantos usuários existem agrupados por idade e separados por gênero?"
   ]
  },
  {
   "cell_type": "code",
   "execution_count": null,
   "id": "harmful-variance",
   "metadata": {},
   "outputs": [],
   "source": []
  }
 ],
 "metadata": {
  "kernelspec": {
   "display_name": "Python 3",
   "language": "python",
   "name": "python3"
  },
  "language_info": {
   "codemirror_mode": {
    "name": "ipython",
    "version": 3
   },
   "file_extension": ".py",
   "mimetype": "text/x-python",
   "name": "python",
   "nbconvert_exporter": "python",
   "pygments_lexer": "ipython3",
   "version": "3.7.10"
  }
 },
 "nbformat": 4,
 "nbformat_minor": 5
}
